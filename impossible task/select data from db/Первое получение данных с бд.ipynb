{
 "cells": [
  {
   "cell_type": "code",
   "execution_count": 28,
   "id": "652b7057",
   "metadata": {},
   "outputs": [],
   "source": [
    "import pymysql\n",
    "\n",
    "def setConnect(host = 'svr3.educationhost.cloud',user='zyhhnxcz_students',password='Students1',db='zyhhnxcz_bank',charset='utf8mb4' ):\n",
    "    global con\n",
    "    con = pymysql.connect(host=host,\n",
    "                        user=user,\n",
    "                        password=password,\n",
    "                        db=db,\n",
    "                        charset=charset)\n",
    " \n",
    "setConnect()"
   ]
  },
  {
   "cell_type": "code",
   "execution_count": 29,
   "id": "95d71728",
   "metadata": {
    "scrolled": true
   },
   "outputs": [
    {
     "name": "stdout",
     "output_type": "stream",
     "text": [
      "введите номер и букву класса - 9и\n"
     ]
    }
   ],
   "source": [
    "with con.cursor() as cur:\n",
    "    school_class = input(\"введите номер и букву класса - \")\n",
    "    sql = \"SELECT a.name_lesson, a.name_teacher, t.week_day_lesson, t.day_num_lesson FROM timetablelessons t INNER JOIN about_lesson a ON t.id_about_lesson = a.id_about_lesson WHERE t.class_lesson = '\" + school_class + \"';\"  \n",
    "    cur.execute(sql)\n",
    "\n",
    "    all_rows = cur.fetchall()"
   ]
  },
  {
   "cell_type": "code",
   "execution_count": 32,
   "id": "075650b1",
   "metadata": {},
   "outputs": [
    {
     "name": "stdout",
     "output_type": "stream",
     "text": [
      "Волейбол Наплекова 1 1 \n",
      "Информатика Смирнова 1 2 \n",
      "Химия Владимирова 1 3 \n",
      "Русский язык Попова С.Э. 1 4 \n",
      "Русский язык Попова С.Э. 1 5 \n",
      "ОКО Петрова М.Н. 2 2 \n",
      "Русский язык Попова С.Э. 2 3 \n",
      "Алгебра Москалева 2 4 \n",
      "Геометрия Москалева 2 5 \n",
      "История России Загидуллина 2 6 \n",
      "Физкультура Наплекова 2 7 \n",
      "Немецкий язык Петрова Т.А. 2 8 \n",
      "ИД Гоман 2 9 \n",
      "ИД Гоман 2 10 \n",
      "ОБЖ Зонов 3 2 \n",
      "Алгебра Москалева 3 3 \n",
      "Биология Ястребкова 3 4 \n",
      "Обществознание Загидуллина 3 5 \n",
      "Физкультура Наплекова 3 6 \n",
      "Алгебра Москалева 3 7 \n",
      "Эконмическая теория Колмыкова 3 8 \n",
      "Эконмическая теория Колмыкова 3 9 \n"
     ]
    }
   ],
   "source": [
    "for row in all_rows:\n",
    "    for elem in row:\n",
    "        print(elem,end=\" \")\n",
    "    print()"
   ]
  },
  {
   "cell_type": "code",
   "execution_count": null,
   "id": "5ef1a4f0",
   "metadata": {},
   "outputs": [],
   "source": []
  }
 ],
 "metadata": {
  "kernelspec": {
   "display_name": "Python 3",
   "language": "python",
   "name": "python3"
  },
  "language_info": {
   "codemirror_mode": {
    "name": "ipython",
    "version": 3
   },
   "file_extension": ".py",
   "mimetype": "text/x-python",
   "name": "python",
   "nbconvert_exporter": "python",
   "pygments_lexer": "ipython3",
   "version": "3.8.8"
  }
 },
 "nbformat": 4,
 "nbformat_minor": 5
}
