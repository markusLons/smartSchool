{
 "cells": [
  {
   "cell_type": "code",
   "execution_count": 28,
   "id": "652b7057",
   "metadata": {},
   "outputs": [],
   "source": [
    "import pymysql\n",
    "\n",
    "def setConnect(host = 'svr3.educationhost.cloud',user='zyhhnxcz_students',password='Students1',db='zyhhnxcz_bank',charset='utf8mb4' ):\n",
    "    global con\n",
    "    con = pymysql.connect(host=host,\n",
    "                        user=user,\n",
    "                        password=password,\n",
    "                        db=db,\n",
    "                        charset=charset)\n",
    " \n",
    "setConnect()"
   ]
  },
  {
   "cell_type": "code",
   "execution_count": 29,
   "id": "95d71728",
   "metadata": {
    "scrolled": true
   },
   "outputs": [
    {
     "name": "stdout",
     "output_type": "stream",
     "text": [
      "введите номер и букву класса - 9и\n"
     ]
    }
   ],
   "source": [
    "with con.cursor() as cur:\n",
    "    school_class = input(\"введите номер и букву класса - \")\n",
    "    sql = \"SELECT a.name_lesson, a.name_teacher, t.week_day_lesson, t.day_num_lesson FROM timetablelessons t INNER JOIN about_lesson a ON t.id_about_lesson = a.id_about_lesson WHERE t.class_lesson = '\" + school_class + \"';\"  \n",
    "    cur.execute(sql)\n",
    "\n",
    "    all_rows = cur.fetchall()"
   ]
  },
  {
   "cell_type": "code",
   "execution_count": 30,
   "id": "075650b1",
   "metadata": {},
   "outputs": [
    {
     "name": "stdout",
     "output_type": "stream",
     "text": [
      "Волейбол\n",
      "Информатика\n",
      "Химия\n",
      "Русский язык\n",
      "Русский язык\n",
      "ОКО\n",
      "Русский язык\n",
      "Алгебра\n",
      "Геометрия\n",
      "История России\n",
      "Физкультура\n",
      "Немецкий язык\n",
      "ИД\n",
      "ИД\n",
      "ОБЖ\n",
      "Алгебра\n",
      "Биология\n",
      "Обществознание\n",
      "Физкультура\n",
      "Алгебра\n",
      "Эконмическая теория\n",
      "Эконмическая теория\n"
     ]
    }
   ],
   "source": [
    "for row in all_rows:\n",
    "    print(row[0])"
   ]
  },
  {
   "cell_type": "code",
   "execution_count": null,
   "id": "5ef1a4f0",
   "metadata": {},
   "outputs": [],
   "source": []
  }
 ],
 "metadata": {
  "kernelspec": {
   "display_name": "Python 3",
   "language": "python",
   "name": "python3"
  },
  "language_info": {
   "codemirror_mode": {
    "name": "ipython",
    "version": 3
   },
   "file_extension": ".py",
   "mimetype": "text/x-python",
   "name": "python",
   "nbconvert_exporter": "python",
   "pygments_lexer": "ipython3",
   "version": "3.8.8"
  }
 },
 "nbformat": 4,
 "nbformat_minor": 5
}
