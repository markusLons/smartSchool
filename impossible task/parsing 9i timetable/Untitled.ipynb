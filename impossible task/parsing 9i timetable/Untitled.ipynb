{
 "cells": [
  {
   "cell_type": "code",
   "execution_count": 115,
   "id": "18636b79",
   "metadata": {},
   "outputs": [],
   "source": [
    "from bs4 import BeautifulSoup\n",
    "import re\n",
    "import io\n",
    "import datetime\n",
    "import pymysql\n",
    "def delspaces(string):\n",
    "    return re.sub(r'\\s+','',string)\n",
    "def deldotes(string):\n",
    "    return re.sub(r'\\.','',string)\n",
    "f = io.open(\"парсинг 9и класс.html\", mode=\"r\", encoding=\"utf-8\")\n",
    "    \n",
    "contents = f.read()\n",
    " \n",
    "soup = BeautifulSoup(contents, 'lxml')\n",
    "days_list = list()"
   ]
  },
  {
   "cell_type": "code",
   "execution_count": 121,
   "id": "aa37fe26",
   "metadata": {
    "scrolled": true
   },
   "outputs": [
    {
     "name": "stdout",
     "output_type": "stream",
     "text": [
      "Понедельник\n",
      "08.11.2021\n",
      "2\n",
      "Инф. и ИКТ\n",
      "Вторник\n",
      "09.11.2021\n",
      "2\n",
      "Русский язык\n",
      "Среда\n",
      "10.11.2021\n",
      "2\n",
      "ОБЖ\n",
      "Четверг\n",
      "11.11.2021\n",
      "2\n",
      "Литература\n",
      "Пятница\n",
      "12.11.2021\n",
      "2\n",
      "История России\n",
      "Суббота\n",
      "13.11.2021\n",
      "2\n",
      "Англ. яз.\n"
     ]
    }
   ],
   "source": [
    "i=0\n",
    "for day in soup.select('.dnevnik-day'):\n",
    "    weekday_lesson,date_lesson = day.select_one('.dnevnik-day__title').text.split(', ')\n",
    "    weekday_lesson = deldotes(delspaces(weekday_lesson))\n",
    "    date_lesson = delspaces(date_lesson) + \".\" + str(datetime.date.today().year)\n",
    "    print(weekday_lesson)\n",
    "    print(date_lesson)\n",
    "    \n",
    "    \n",
    "    day_num_lesson = deldotes(delspaces(day.select_one('.dnevnik-lesson__number').text))\n",
    "    print(day_num_lesson)\n",
    "    \n",
    "    name_lesson = day.select_one('.js-rt_licey-dnevnik-subject').text\n",
    "    print(name_lesson)\n",
    "    days_list.append([date_lesson,weekday_lesson,day_num_lesson])\n",
    "        "
   ]
  },
  {
   "cell_type": "code",
   "execution_count": 125,
   "id": "19fa23d6",
   "metadata": {},
   "outputs": [],
   "source": [
    "import pymysql\n",
    " \n",
    "con = pymysql.connect(host='svr3.educationhost.cloud', user='zyhhnxcz_students', password='Students1', database='zyhhnxcz_bank')"
   ]
  },
  {
   "cell_type": "code",
   "execution_count": null,
   "id": "f21daa26",
   "metadata": {},
   "outputs": [],
   "source": []
  }
 ],
 "metadata": {
  "kernelspec": {
   "display_name": "Python 3",
   "language": "python",
   "name": "python3"
  },
  "language_info": {
   "codemirror_mode": {
    "name": "ipython",
    "version": 3
   },
   "file_extension": ".py",
   "mimetype": "text/x-python",
   "name": "python",
   "nbconvert_exporter": "python",
   "pygments_lexer": "ipython3",
   "version": "3.8.8"
  }
 },
 "nbformat": 4,
 "nbformat_minor": 5
}
