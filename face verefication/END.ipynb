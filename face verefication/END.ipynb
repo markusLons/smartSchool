{
 "cells": [
  {
   "cell_type": "code",
   "execution_count": 7,
   "id": "e25f5673",
   "metadata": {},
   "outputs": [],
   "source": [
    "import cv2\n",
    "import numpy as np\n",
    "import matplotlib.pyplot as plt\n",
    "import dlib\n",
    "from skimage import io\n",
    "from scipy.spatial import distance\n",
    "import PIL.Image\n",
    "import PIL.ImageDraw\n",
    "import time\n"
   ]
  },
  {
   "cell_type": "code",
   "execution_count": 8,
   "id": "3a165694",
   "metadata": {},
   "outputs": [],
   "source": [
    "simple = \"ded.png\" # изображение для сравнения"
   ]
  },
  {
   "cell_type": "code",
   "execution_count": 9,
   "id": "9ee16895",
   "metadata": {},
   "outputs": [],
   "source": [
    "def show(img, flag = 0):\n",
    "    if flag == 1:\n",
    "        img = cv2.cvtColor(img, cv2.COLOR_BGR2RGB)\n",
    "    fig, ax = plt.subplots()\n",
    "    ax.imshow(img)\n",
    "    fig.set_figwidth(10)\n",
    "    fig.set_figheight(10) \n",
    "    plt.show()"
   ]
  },
  {
   "cell_type": "code",
   "execution_count": 10,
   "id": "aa1e9be5",
   "metadata": {},
   "outputs": [],
   "source": [
    "sp = dlib.shape_predictor('shape_predictor_68_face_landmarks.dat')\n",
    "facerec = dlib.face_recognition_model_v1('dlib_face_recognition_resnet_model_v1.dat')\n",
    "detector = dlib.get_frontal_face_detector()"
   ]
  },
  {
   "cell_type": "code",
   "execution_count": 11,
   "id": "43e17333",
   "metadata": {},
   "outputs": [],
   "source": [
    "img = io.imread(simple)"
   ]
  },
  {
   "cell_type": "code",
   "execution_count": 12,
   "id": "3e7bf049",
   "metadata": {},
   "outputs": [
    {
     "ename": "RuntimeError",
     "evalue": "Unsupported image type, must be 8bit gray or RGB image.",
     "output_type": "error",
     "traceback": [
      "\u001b[1;31m---------------------------------------------------------------------------\u001b[0m",
      "\u001b[1;31mRuntimeError\u001b[0m                              Traceback (most recent call last)",
      "\u001b[1;32mC:\\Users\\80CE~1\\AppData\\Local\\Temp/ipykernel_1944/1567314649.py\u001b[0m in \u001b[0;36m<module>\u001b[1;34m\u001b[0m\n\u001b[1;32m----> 1\u001b[1;33m \u001b[0mdets\u001b[0m \u001b[1;33m=\u001b[0m \u001b[0mdetector\u001b[0m\u001b[1;33m(\u001b[0m\u001b[0mimg\u001b[0m\u001b[1;33m,\u001b[0m \u001b[1;36m1\u001b[0m\u001b[1;33m)\u001b[0m\u001b[1;33m\u001b[0m\u001b[1;33m\u001b[0m\u001b[0m\n\u001b[0m",
      "\u001b[1;31mRuntimeError\u001b[0m: Unsupported image type, must be 8bit gray or RGB image."
     ]
    }
   ],
   "source": [
    "dets = detector(img, 1)"
   ]
  },
  {
   "cell_type": "code",
   "execution_count": null,
   "id": "876b5997",
   "metadata": {},
   "outputs": [],
   "source": [
    "shape = 0\n",
    "for k, d in enumerate(dets):\n",
    "    print(\"Detection {}: Left: {} Top: {} Right: {} Bottom: {}\".format(\n",
    "        k, d.left(), d.top(), d.right(), d.bottom()))\n",
    "    shape = sp(img, d)\n",
    "    rgb_image = cv2.cvtColor(img, cv2.COLOR_BGR2RGB)\n",
    "    f = cv2.rectangle(rgb_image, (d.left(), d.top()), (d.right(), d.bottom()), (0, 255, 255), 10)\n",
    "    show(f)"
   ]
  },
  {
   "cell_type": "code",
   "execution_count": null,
   "id": "a836b24e",
   "metadata": {},
   "outputs": [],
   "source": [
    "f = cv2.rectangle(rgb_image, (d.left(), d.top()), (d.right(), d.bottom()), (0, 255, 255), 10)\n",
    "face_descriptor1 = facerec.compute_face_descriptor(f, shape)"
   ]
  },
  {
   "cell_type": "markdown",
   "id": "b15f5beb",
   "metadata": {},
   "source": [
    "# # Камера"
   ]
  },
  {
   "cell_type": "code",
   "execution_count": 5,
   "id": "b3ff2443",
   "metadata": {},
   "outputs": [],
   "source": [
    "cap = cv2.VideoCapture(-1)\n",
    "timeToslip = 0\n",
    "face_descriptor2 = 0\n",
    "a = 0\n",
    "while cap.isOpened():\n",
    "    \n",
    "    timeToslip +=1\n",
    "    #Получение с камеры \n",
    "    ret, img = cap.read()\n",
    "    \n",
    "    # с лицами\n",
    "    dets = detector(img, 1)\n",
    "    shape = 0\n",
    "    for k, d in enumerate(dets):\n",
    "        shape = sp(img, d)\n",
    "    #другое цветовое пространство которое не работает TODO PS: Оказывается оно и не должно работать, схема уже RGB\n",
    "    #rgb_image = cv2.cvtColor(img, cv2.COLOR_BGR2RGB)\n",
    "    #Квадратик на лице\n",
    "    f = cv2.rectangle(img, (d.left(), d.top()), (d.right(), d.bottom()), (0, 255, 255), 10)\n",
    "    #if(timeToslip == 40):\n",
    "    if(1):\n",
    "    #Вычисления может быть исключение \n",
    "        try:\n",
    "            face_descriptor2 = facerec.compute_face_descriptor(img, shape)\n",
    "        except RuntimeError:\n",
    "            pass\n",
    "        \n",
    "    #Растояние\n",
    "        a = distance.euclidean(face_descriptor1, face_descriptor2)\n",
    "        timeToslip = 0\n",
    "    #Текст под  \n",
    "    f = cv2.putText(f, \"mark -{}\".format(a), (d.left(), d.bottom()),cv2.FONT_HERSHEY_SIMPLEX, 1, (30, 105, 210), 2)\n",
    "    #Вывод изображения\n",
    "    cv2.imshow('mark or not', f)\n",
    "    key = cv2.waitKey(100)\n",
    "    if key == 27:\n",
    "        break\n",
    "\n",
    "cap.release()\n",
    "cv2.destroyAllWindows()"
   ]
  },
  {
   "cell_type": "code",
   "execution_count": null,
   "id": "0f3a7426",
   "metadata": {},
   "outputs": [],
   "source": []
  }
 ],
 "metadata": {
  "kernelspec": {
   "display_name": "Python 3 (ipykernel)",
   "language": "python",
   "name": "python3"
  },
  "language_info": {
   "codemirror_mode": {
    "name": "ipython",
    "version": 3
   },
   "file_extension": ".py",
   "mimetype": "text/x-python",
   "name": "python",
   "nbconvert_exporter": "python",
   "pygments_lexer": "ipython3",
   "version": "3.9.7"
  }
 },
 "nbformat": 4,
 "nbformat_minor": 5
}
