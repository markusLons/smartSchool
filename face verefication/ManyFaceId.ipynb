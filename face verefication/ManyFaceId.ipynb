{
 "cells": [
  {
   "cell_type": "code",
   "execution_count": 14,
   "id": "0a26fdab",
   "metadata": {},
   "outputs": [],
   "source": [
    "import cv2\n",
    "import numpy as np\n",
    "import matplotlib.pyplot as plt\n",
    "import dlib\n",
    "from skimage import io\n",
    "from scipy.spatial import distance\n",
    "import PIL.Image\n",
    "import PIL.ImageDraw\n",
    "import time\n",
    "import os"
   ]
  },
  {
   "cell_type": "markdown",
   "id": "9fc47d09",
   "metadata": {},
   "source": [
    "# получение имени по фото"
   ]
  },
  {
   "cell_type": "code",
   "execution_count": 15,
   "id": "457dc163",
   "metadata": {},
   "outputs": [],
   "source": [
    "def getNameOnPhoto(img):\n",
    "    global faces\n",
    "    dets = detector(img, 1)\n",
    "    shape = 0\n",
    "    for k, d in enumerate(dets):\n",
    "        shape = sp(img, d)\n",
    "    face_descriptor2 = facerec.compute_face_descriptor(img, shape)\n",
    "    minName = \"\"\n",
    "    minVal = 100\n",
    "    for i in faces:\n",
    "        a = distance.euclidean(faces[i], face_descriptor2)\n",
    "        if(a < minVal):\n",
    "            minName = i\n",
    "            minVal = a\n",
    "    if(minVal > 0.6):\n",
    "        return \"NoName\",d #(d.left(), d.top(), d.right(), d.bottom())\n",
    "    return minName, d#(d.left(), d.top(), d.right(), d.bottom())"
   ]
  },
  {
   "cell_type": "markdown",
   "id": "a32da357",
   "metadata": {},
   "source": [
    "Получение детектора"
   ]
  },
  {
   "cell_type": "code",
   "execution_count": 16,
   "id": "10b55b30",
   "metadata": {},
   "outputs": [],
   "source": [
    "def getDescriptor(img):\n",
    "    dets = detector(img, 1)\n",
    "    shape = 0\n",
    "    d = 0\n",
    "    for k, d in enumerate(dets):\n",
    "        shape = sp(img, d)\n",
    "        rgb_image = cv2.cvtColor(img, cv2.COLOR_BGR2RGB)\n",
    "    return facerec.compute_face_descriptor(rgb_image, shape)\n",
    "        "
   ]
  },
  {
   "cell_type": "markdown",
   "id": "5c2402ae",
   "metadata": {},
   "source": [
    "Загрузка моделей"
   ]
  },
  {
   "cell_type": "code",
   "execution_count": 17,
   "id": "3200a900",
   "metadata": {},
   "outputs": [],
   "source": [
    "sp = dlib.shape_predictor('shape_predictor_68_face_landmarks.dat')\n",
    "facerec = dlib.face_recognition_model_v1('dlib_face_recognition_resnet_model_v1.dat')\n",
    "detector = dlib.get_frontal_face_detector()"
   ]
  },
  {
   "cell_type": "markdown",
   "id": "7ac2ddc5",
   "metadata": {},
   "source": [
    "Загрузка базы имен"
   ]
  },
  {
   "cell_type": "code",
   "execution_count": 25,
   "id": "c1a9a5e4",
   "metadata": {},
   "outputs": [
    {
     "name": "stdout",
     "output_type": "stream",
     "text": [
      "before plastic:after plastic-0.4810786631675462\n",
      "dzheki chan sempai:dzheki chan sempai young-0.5934074029181552\n",
      "elzin_molodost:elzin-0.5590926978698899\n",
      "Hideo_Kojima:dzheki chan sempai young-0.5660318117577773\n",
      "stolik strig:make up-0.5304623213297581\n",
      "unnamed:156675638_891734761641492_6540693647853913065_n-pic905-895x505-2670-0.5380572606847435\n",
      "WhatsApp Image 2022-02-16 at 19.37.10.:WhatsApp Image 2022-02-16 at 19.36.58.-0.5667809355360696\n",
      "Без названия:bda244d45d27c888f12bff9241834bda-0.4723396472390147\n",
      "путин 22.:putin_99-0.5930753415670249\n"
     ]
    }
   ],
   "source": [
    "faces = dict()\n",
    "files = os.listdir(\"faces/\")\n",
    "for i in files:\n",
    "    img = io.imread(\"faces/{}\".format(i))\n",
    "    faces[i[0:-4]] = getDescriptor(img)\n",
    "for i in faces:\n",
    "    for j in faces:\n",
    "        if i == j:\n",
    "            break\n",
    "        if distance.euclidean(faces[i], faces[j]) < 0.6:\n",
    "            print(\"{}:{}-{}\".format(i,j,distance.euclidean(faces[i], faces[j]) ) )"
   ]
  },
  {
   "cell_type": "code",
   "execution_count": null,
   "id": "520a167c",
   "metadata": {},
   "outputs": [],
   "source": []
  },
  {
   "cell_type": "code",
   "execution_count": null,
   "id": "5787292f",
   "metadata": {},
   "outputs": [],
   "source": []
  }
 ],
 "metadata": {
  "kernelspec": {
   "display_name": "Python 3 (ipykernel)",
   "language": "python",
   "name": "python3"
  },
  "language_info": {
   "codemirror_mode": {
    "name": "ipython",
    "version": 3
   },
   "file_extension": ".py",
   "mimetype": "text/x-python",
   "name": "python",
   "nbconvert_exporter": "python",
   "pygments_lexer": "ipython3",
   "version": "3.9.7"
  }
 },
 "nbformat": 4,
 "nbformat_minor": 5
}
