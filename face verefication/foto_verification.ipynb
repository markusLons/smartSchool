{
 "cells": [
  {
   "cell_type": "markdown",
   "metadata": {},
   "source": [
    "# Пример верификации человека на фотографии с помощью библиотеки dlib\n",
    "\n",
    "**Верификация** - это задача определения, находится ли на изображении нужный нам человек, или нет. \n",
    "\n",
    "Мы будем решать задачу верификации человека на двух фотографиях. Нам нужно будет определить, один человек изображен на двух фотографиях, или нет."
   ]
  },
  {
   "cell_type": "code",
   "execution_count": 17,
   "metadata": {},
   "outputs": [],
   "source": [
    "import dlib\n",
    "from skimage import io\n",
    "from scipy.spatial import distance"
   ]
  },
  {
   "cell_type": "markdown",
   "metadata": {},
   "source": [
    "# Создаем модели для поиска и нахождения лиц в dlib\n",
    "\n",
    "Предварительно обученные модели можно скачать по ссылкам:\n",
    "- http://dlib.net/files/shape_predictor_68_face_landmarks.dat.bz2\n",
    "- http://dlib.net/files/dlib_face_recognition_resnet_model_v1.dat.bz2\n",
    "\n",
    "Файлы с моделями нужно разархивировать и положить в каталог с этим notebook"
   ]
  },
  {
   "cell_type": "code",
   "execution_count": 18,
   "metadata": {},
   "outputs": [],
   "source": [
    "sp = dlib.shape_predictor('shape_predictor_68_face_landmarks.dat')\n",
    "facerec = dlib.face_recognition_model_v1('dlib_face_recognition_resnet_model_v1.dat')\n",
    "detector = dlib.get_frontal_face_detector()"
   ]
  },
  {
   "cell_type": "markdown",
   "metadata": {
    "collapsed": true
   },
   "source": [
    "Загружаем первую фотографию"
   ]
  },
  {
   "cell_type": "code",
   "execution_count": 19,
   "metadata": {},
   "outputs": [],
   "source": [
    "img = io.imread('1619170326_a3f390d88e4c41f2747bfa2f1b5f87db.png')"
   ]
  },
  {
   "cell_type": "code",
   "execution_count": 20,
   "metadata": {},
   "outputs": [
    {
     "data": {
      "text/plain": [
       "array([[[ 67,  56,  49,   0],\n",
       "        [ 67,  56,  49,   0],\n",
       "        [ 67,  56,  49,   0],\n",
       "        ...,\n",
       "        [ 67,  56,  49,   0],\n",
       "        [ 67,  56,  49,   0],\n",
       "        [ 67,  56,  49,   0]],\n",
       "\n",
       "       [[ 67,  56,  49,   0],\n",
       "        [ 67,  56,  49,   0],\n",
       "        [ 67,  56,  49,   0],\n",
       "        ...,\n",
       "        [ 67,  56,  49,   0],\n",
       "        [ 67,  56,  49,   0],\n",
       "        [ 67,  56,  49,   0]],\n",
       "\n",
       "       [[ 67,  56,  49,   0],\n",
       "        [ 67,  56,  49,   0],\n",
       "        [ 67,  56,  49,   0],\n",
       "        ...,\n",
       "        [ 67,  56,  49,   0],\n",
       "        [ 67,  56,  49,   0],\n",
       "        [ 67,  56,  49,   0]],\n",
       "\n",
       "       ...,\n",
       "\n",
       "       [[118,  71,  47, 255],\n",
       "        [120,  84,  61, 255],\n",
       "        [118,  71,  47, 255],\n",
       "        ...,\n",
       "        [ 67,  56,  49,   0],\n",
       "        [ 67,  56,  49,   0],\n",
       "        [ 67,  56,  49,   0]],\n",
       "\n",
       "       [[110,  82,  60, 255],\n",
       "        [118,  71,  47, 255],\n",
       "        [118,  71,  47, 255],\n",
       "        ...,\n",
       "        [ 67,  56,  49,   0],\n",
       "        [ 67,  56,  49,   0],\n",
       "        [ 67,  56,  49,   0]],\n",
       "\n",
       "       [[110,  82,  60, 255],\n",
       "        [118,  71,  47, 255],\n",
       "        [120,  84,  61, 255],\n",
       "        ...,\n",
       "        [ 67,  56,  49,   0],\n",
       "        [ 67,  56,  49,   0],\n",
       "        [ 67,  56,  49,   0]]], dtype=uint8)"
      ]
     },
     "execution_count": 20,
     "metadata": {},
     "output_type": "execute_result"
    }
   ],
   "source": [
    "img"
   ]
  },
  {
   "cell_type": "markdown",
   "metadata": {},
   "source": [
    "Показываем фотографию средствами dlib"
   ]
  },
  {
   "cell_type": "code",
   "execution_count": 21,
   "metadata": {},
   "outputs": [
    {
     "ename": "TypeError",
     "evalue": "set_image(): incompatible function arguments. The following argument types are supported:\n    1. (self: _dlib_pybind11.image_window, detector: _dlib_pybind11.simple_object_detector) -> None\n    2. (self: _dlib_pybind11.image_window, detector: _dlib_pybind11.fhog_object_detector) -> None\n    3. (self: _dlib_pybind11.image_window, image: numpy.ndarray[(rows,cols),uint8]) -> None\n    4. (self: _dlib_pybind11.image_window, image: numpy.ndarray[(rows,cols),uint16]) -> None\n    5. (self: _dlib_pybind11.image_window, image: numpy.ndarray[(rows,cols),uint32]) -> None\n    6. (self: _dlib_pybind11.image_window, image: numpy.ndarray[(rows,cols),uint64]) -> None\n    7. (self: _dlib_pybind11.image_window, image: numpy.ndarray[(rows,cols),int8]) -> None\n    8. (self: _dlib_pybind11.image_window, image: numpy.ndarray[(rows,cols),int16]) -> None\n    9. (self: _dlib_pybind11.image_window, image: numpy.ndarray[(rows,cols),int32]) -> None\n    10. (self: _dlib_pybind11.image_window, image: numpy.ndarray[(rows,cols),int64]) -> None\n    11. (self: _dlib_pybind11.image_window, image: numpy.ndarray[(rows,cols),float32]) -> None\n    12. (self: _dlib_pybind11.image_window, image: numpy.ndarray[(rows,cols),float64]) -> None\n    13. (self: _dlib_pybind11.image_window, image: numpy.ndarray[(rows,cols,3),uint8]) -> None\n\nInvoked with: <_dlib_pybind11.image_window object at 0x00000293050ABD30>, array([[[ 67,  56,  49,   0],\n        [ 67,  56,  49,   0],\n        [ 67,  56,  49,   0],\n        ...,\n        [ 67,  56,  49,   0],\n        [ 67,  56,  49,   0],\n        [ 67,  56,  49,   0]],\n\n       [[ 67,  56,  49,   0],\n        [ 67,  56,  49,   0],\n        [ 67,  56,  49,   0],\n        ...,\n        [ 67,  56,  49,   0],\n        [ 67,  56,  49,   0],\n        [ 67,  56,  49,   0]],\n\n       [[ 67,  56,  49,   0],\n        [ 67,  56,  49,   0],\n        [ 67,  56,  49,   0],\n        ...,\n        [ 67,  56,  49,   0],\n        [ 67,  56,  49,   0],\n        [ 67,  56,  49,   0]],\n\n       ...,\n\n       [[118,  71,  47, 255],\n        [120,  84,  61, 255],\n        [118,  71,  47, 255],\n        ...,\n        [ 67,  56,  49,   0],\n        [ 67,  56,  49,   0],\n        [ 67,  56,  49,   0]],\n\n       [[110,  82,  60, 255],\n        [118,  71,  47, 255],\n        [118,  71,  47, 255],\n        ...,\n        [ 67,  56,  49,   0],\n        [ 67,  56,  49,   0],\n        [ 67,  56,  49,   0]],\n\n       [[110,  82,  60, 255],\n        [118,  71,  47, 255],\n        [120,  84,  61, 255],\n        ...,\n        [ 67,  56,  49,   0],\n        [ 67,  56,  49,   0],\n        [ 67,  56,  49,   0]]], dtype=uint8)",
     "output_type": "error",
     "traceback": [
      "\u001b[1;31m---------------------------------------------------------------------------\u001b[0m",
      "\u001b[1;31mTypeError\u001b[0m                                 Traceback (most recent call last)",
      "\u001b[1;32mC:\\Users\\80CE~1\\AppData\\Local\\Temp/ipykernel_15144/3592258946.py\u001b[0m in \u001b[0;36m<module>\u001b[1;34m\u001b[0m\n\u001b[0;32m      1\u001b[0m \u001b[0mwin1\u001b[0m \u001b[1;33m=\u001b[0m \u001b[0mdlib\u001b[0m\u001b[1;33m.\u001b[0m\u001b[0mimage_window\u001b[0m\u001b[1;33m(\u001b[0m\u001b[1;33m)\u001b[0m\u001b[1;33m\u001b[0m\u001b[1;33m\u001b[0m\u001b[0m\n\u001b[0;32m      2\u001b[0m \u001b[0mwin1\u001b[0m\u001b[1;33m.\u001b[0m\u001b[0mclear_overlay\u001b[0m\u001b[1;33m(\u001b[0m\u001b[1;33m)\u001b[0m\u001b[1;33m\u001b[0m\u001b[1;33m\u001b[0m\u001b[0m\n\u001b[1;32m----> 3\u001b[1;33m \u001b[0mwin1\u001b[0m\u001b[1;33m.\u001b[0m\u001b[0mset_image\u001b[0m\u001b[1;33m(\u001b[0m\u001b[0mimg\u001b[0m\u001b[1;33m)\u001b[0m\u001b[1;33m\u001b[0m\u001b[1;33m\u001b[0m\u001b[0m\n\u001b[0m",
      "\u001b[1;31mTypeError\u001b[0m: set_image(): incompatible function arguments. The following argument types are supported:\n    1. (self: _dlib_pybind11.image_window, detector: _dlib_pybind11.simple_object_detector) -> None\n    2. (self: _dlib_pybind11.image_window, detector: _dlib_pybind11.fhog_object_detector) -> None\n    3. (self: _dlib_pybind11.image_window, image: numpy.ndarray[(rows,cols),uint8]) -> None\n    4. (self: _dlib_pybind11.image_window, image: numpy.ndarray[(rows,cols),uint16]) -> None\n    5. (self: _dlib_pybind11.image_window, image: numpy.ndarray[(rows,cols),uint32]) -> None\n    6. (self: _dlib_pybind11.image_window, image: numpy.ndarray[(rows,cols),uint64]) -> None\n    7. (self: _dlib_pybind11.image_window, image: numpy.ndarray[(rows,cols),int8]) -> None\n    8. (self: _dlib_pybind11.image_window, image: numpy.ndarray[(rows,cols),int16]) -> None\n    9. (self: _dlib_pybind11.image_window, image: numpy.ndarray[(rows,cols),int32]) -> None\n    10. (self: _dlib_pybind11.image_window, image: numpy.ndarray[(rows,cols),int64]) -> None\n    11. (self: _dlib_pybind11.image_window, image: numpy.ndarray[(rows,cols),float32]) -> None\n    12. (self: _dlib_pybind11.image_window, image: numpy.ndarray[(rows,cols),float64]) -> None\n    13. (self: _dlib_pybind11.image_window, image: numpy.ndarray[(rows,cols,3),uint8]) -> None\n\nInvoked with: <_dlib_pybind11.image_window object at 0x00000293050ABD30>, array([[[ 67,  56,  49,   0],\n        [ 67,  56,  49,   0],\n        [ 67,  56,  49,   0],\n        ...,\n        [ 67,  56,  49,   0],\n        [ 67,  56,  49,   0],\n        [ 67,  56,  49,   0]],\n\n       [[ 67,  56,  49,   0],\n        [ 67,  56,  49,   0],\n        [ 67,  56,  49,   0],\n        ...,\n        [ 67,  56,  49,   0],\n        [ 67,  56,  49,   0],\n        [ 67,  56,  49,   0]],\n\n       [[ 67,  56,  49,   0],\n        [ 67,  56,  49,   0],\n        [ 67,  56,  49,   0],\n        ...,\n        [ 67,  56,  49,   0],\n        [ 67,  56,  49,   0],\n        [ 67,  56,  49,   0]],\n\n       ...,\n\n       [[118,  71,  47, 255],\n        [120,  84,  61, 255],\n        [118,  71,  47, 255],\n        ...,\n        [ 67,  56,  49,   0],\n        [ 67,  56,  49,   0],\n        [ 67,  56,  49,   0]],\n\n       [[110,  82,  60, 255],\n        [118,  71,  47, 255],\n        [118,  71,  47, 255],\n        ...,\n        [ 67,  56,  49,   0],\n        [ 67,  56,  49,   0],\n        [ 67,  56,  49,   0]],\n\n       [[110,  82,  60, 255],\n        [118,  71,  47, 255],\n        [120,  84,  61, 255],\n        ...,\n        [ 67,  56,  49,   0],\n        [ 67,  56,  49,   0],\n        [ 67,  56,  49,   0]]], dtype=uint8)"
     ]
    }
   ],
   "source": [
    "win1 = dlib.image_window()\n",
    "win1.clear_overlay()\n",
    "win1.set_image(img)"
   ]
  },
  {
   "cell_type": "markdown",
   "metadata": {},
   "source": [
    "# Находим лицо на фотографии"
   ]
  },
  {
   "cell_type": "code",
   "execution_count": null,
   "metadata": {},
   "outputs": [],
   "source": [
    "dets = detector(img, 1)"
   ]
  },
  {
   "cell_type": "code",
   "execution_count": null,
   "metadata": {},
   "outputs": [],
   "source": [
    "shape = 0\n",
    "for k, d in enumerate(dets):\n",
    "    print(\"Detection {}: Left: {} Top: {} Right: {} Bottom: {}\".format(\n",
    "        k, d.left(), d.top(), d.right(), d.bottom()))\n",
    "    shape = sp(img, d)\n",
    "    "
   ]
  },
  {
   "cell_type": "code",
   "execution_count": null,
   "metadata": {},
   "outputs": [],
   "source": [
    "img"
   ]
  },
  {
   "cell_type": "markdown",
   "metadata": {},
   "source": [
    "# Извлекаем дескриптор из лица"
   ]
  },
  {
   "cell_type": "code",
   "execution_count": null,
   "metadata": {},
   "outputs": [],
   "source": [
    "face_descriptor1 = facerec.compute_face_descriptor(img, shape)"
   ]
  },
  {
   "cell_type": "markdown",
   "metadata": {},
   "source": [
    "Печатаем дексриптор"
   ]
  },
  {
   "cell_type": "code",
   "execution_count": null,
   "metadata": {},
   "outputs": [],
   "source": [
    "print(face_descriptor1)"
   ]
  },
  {
   "cell_type": "markdown",
   "metadata": {},
   "source": [
    "# Загружаем и обрабатываем вторую фотографию"
   ]
  },
  {
   "cell_type": "code",
   "execution_count": null,
   "metadata": {},
   "outputs": [],
   "source": [
    "img = io.imread('1612273020_7cbbc409ec990f19c78c75bd1e06f215.png')\n",
    "win2 = dlib.image_window()\n",
    "win2.clear_overlay()\n",
    "win2.set_image(img)\n",
    "dets_webcam = detector(img, 1)\n",
    "for k, d in enumerate(dets_webcam):\n",
    "    print(\"Detection {}: Left: {} Top: {} Right: {} Bottom: {}\".format(\n",
    "        k, d.left(), d.top(), d.right(), d.bottom()))\n",
    "    shape = sp(img, d)\n",
    "    win2.clear_overlay()\n",
    "    win2.add_overlay(d)\n",
    "    win2.add_overlay(shape)\n"
   ]
  },
  {
   "cell_type": "code",
   "execution_count": null,
   "metadata": {},
   "outputs": [],
   "source": [
    "face_descriptor2 = facerec.compute_face_descriptor(img, shape)"
   ]
  },
  {
   "cell_type": "markdown",
   "metadata": {},
   "source": [
    "# Рассчитываем Евклидово расстояние между двумя дексрипторами лиц\n",
    "\n",
    "В dlib рекомендуется использовать граничное значение Евклидова расстояния между дескрипторами лиц равное 0.6. Если Евклидово расстояние меньше 0.6, значит фотографии принадлежат одному человеку. \n",
    "\n",
    "С использованием такой метрики dlib обеспечивает точность 99.38% на тесте распознавания лиц Labeled Faces in the Wild. Подробности можно посмотреть по ссылке - http://dlib.net/face_recognition.py.html"
   ]
  },
  {
   "cell_type": "code",
   "execution_count": 22,
   "metadata": {},
   "outputs": [
    {
     "name": "stdout",
     "output_type": "stream",
     "text": [
      "0.669170067692495\n"
     ]
    }
   ],
   "source": [
    "a = distance.euclidean(face_descriptor1, face_descriptor2)\n",
    "print(a)"
   ]
  },
  {
   "cell_type": "code",
   "execution_count": null,
   "metadata": {},
   "outputs": [],
   "source": []
  },
  {
   "cell_type": "code",
   "execution_count": null,
   "metadata": {},
   "outputs": [],
   "source": []
  },
  {
   "cell_type": "code",
   "execution_count": null,
   "metadata": {},
   "outputs": [],
   "source": []
  },
  {
   "cell_type": "code",
   "execution_count": null,
   "metadata": {},
   "outputs": [],
   "source": []
  }
 ],
 "metadata": {
  "kernelspec": {
   "display_name": "Python 3 (ipykernel)",
   "language": "python",
   "name": "python3"
  },
  "language_info": {
   "codemirror_mode": {
    "name": "ipython",
    "version": 3
   },
   "file_extension": ".py",
   "mimetype": "text/x-python",
   "name": "python",
   "nbconvert_exporter": "python",
   "pygments_lexer": "ipython3",
   "version": "3.9.7"
  }
 },
 "nbformat": 4,
 "nbformat_minor": 2
}
